{
  "cells": [
    {
      "cell_type": "markdown",
      "metadata": {},
      "source": [
        "# 🧠 Debate AI - Jupyter Notebook Version\n"
      ]
    },
    {
      "cell_type": "code",
      "execution_count": null,
      "metadata": {},
      "outputs": [
        {
          "name": "stdout",
          "output_type": "stream",
          "text": [
            "Requirement already satisfied: transformers in c:\\users\\khawa\\anaconda3\\lib\\site-packages (4.56.1)\n",
            "Requirement already satisfied: torch in c:\\users\\khawa\\anaconda3\\lib\\site-packages (2.8.0)\n",
            "Requirement already satisfied: filelock in c:\\users\\khawa\\anaconda3\\lib\\site-packages (from transformers) (3.13.1)\n",
            "Requirement already satisfied: huggingface-hub<1.0,>=0.34.0 in c:\\users\\khawa\\anaconda3\\lib\\site-packages (from transformers) (0.34.4)\n",
            "Requirement already satisfied: numpy>=1.17 in c:\\users\\khawa\\anaconda3\\lib\\site-packages (from transformers) (1.26.4)\n",
            "Requirement already satisfied: packaging>=20.0 in c:\\users\\khawa\\anaconda3\\lib\\site-packages (from transformers) (24.1)\n",
            "Requirement already satisfied: pyyaml>=5.1 in c:\\users\\khawa\\anaconda3\\lib\\site-packages (from transformers) (6.0.1)\n",
            "Requirement already satisfied: regex!=2019.12.17 in c:\\users\\khawa\\anaconda3\\lib\\site-packages (from transformers) (2024.9.11)\n",
            "Requirement already satisfied: requests in c:\\users\\khawa\\anaconda3\\lib\\site-packages (from transformers) (2.32.3)\n",
            "Requirement already satisfied: tokenizers<=0.23.0,>=0.22.0 in c:\\users\\khawa\\anaconda3\\lib\\site-packages (from transformers) (0.22.0)\n",
            "Requirement already satisfied: safetensors>=0.4.3 in c:\\users\\khawa\\anaconda3\\lib\\site-packages (from transformers) (0.6.2)\n",
            "Requirement already satisfied: tqdm>=4.27 in c:\\users\\khawa\\anaconda3\\lib\\site-packages (from transformers) (4.66.5)\n",
            "Requirement already satisfied: typing-extensions>=4.10.0 in c:\\users\\khawa\\anaconda3\\lib\\site-packages (from torch) (4.11.0)\n",
            "Requirement already satisfied: sympy>=1.13.3 in c:\\users\\khawa\\anaconda3\\lib\\site-packages (from torch) (1.14.0)\n",
            "Requirement already satisfied: networkx in c:\\users\\khawa\\anaconda3\\lib\\site-packages (from torch) (3.3)\n",
            "Requirement already satisfied: jinja2 in c:\\users\\khawa\\anaconda3\\lib\\site-packages (from torch) (3.1.4)\n",
            "Requirement already satisfied: fsspec in c:\\users\\khawa\\anaconda3\\lib\\site-packages (from torch) (2024.6.1)\n",
            "Requirement already satisfied: setuptools in c:\\users\\khawa\\anaconda3\\lib\\site-packages (from torch) (75.1.0)\n",
            "Requirement already satisfied: mpmath<1.4,>=1.1.0 in c:\\users\\khawa\\anaconda3\\lib\\site-packages (from sympy>=1.13.3->torch) (1.3.0)\n",
            "Requirement already satisfied: colorama in c:\\users\\khawa\\anaconda3\\lib\\site-packages (from tqdm>=4.27->transformers) (0.4.6)\n",
            "Requirement already satisfied: MarkupSafe>=2.0 in c:\\users\\khawa\\anaconda3\\lib\\site-packages (from jinja2->torch) (2.1.3)\n",
            "Requirement already satisfied: charset-normalizer<4,>=2 in c:\\users\\khawa\\anaconda3\\lib\\site-packages (from requests->transformers) (3.3.2)\n",
            "Requirement already satisfied: idna<4,>=2.5 in c:\\users\\khawa\\anaconda3\\lib\\site-packages (from requests->transformers) (3.7)\n",
            "Requirement already satisfied: urllib3<3,>=1.21.1 in c:\\users\\khawa\\anaconda3\\lib\\site-packages (from requests->transformers) (2.2.3)\n",
            "Requirement already satisfied: certifi>=2017.4.17 in c:\\users\\khawa\\anaconda3\\lib\\site-packages (from requests->transformers) (2025.8.3)\n"
          ]
        }
      ],
      "source": [
        "\n",
        "!pip install transformers torch"
      ]
    },
    {
      "cell_type": "code",
      "execution_count": 2,
      "metadata": {},
      "outputs": [
        {
          "name": "stderr",
          "output_type": "stream",
          "text": [
            "Device set to use cpu\n"
          ]
        }
      ],
      "source": [
        "from transformers import pipeline\n",
        "\n",
        "\n",
        "generator = pipeline(\n",
        "    'text-generation',\n",
        "    model='gpt2',\n",
        "    pad_token_id=50256 \n",
        ")\n",
        "\n",
        "def clean_response(text):\n",
        "    \"\"\"Clean up model output to remove repeated prompt parts.\"\"\"\n",
        "    parts = text.split(':')\n",
        "    return parts[-1].strip() if len(parts) > 1 else text.strip()\n",
        "\n",
        "def generate_argument(role, topic):\n",
        "    \"\"\"Generate a response for a specific role and topic.\"\"\"\n",
        "    prompt = f\"{role}: Provide a detailed argument about the topic '{topic}'.\"\n",
        "    result = generator(prompt, max_new_tokens=100, do_sample=True, temperature=0.7)\n",
        "    text = result[0]['generated_text']\n",
        "    return clean_response(text)"
      ]
    },
    {
      "cell_type": "code",
      "execution_count": null,
      "metadata": {},
      "outputs": [],
      "source": [
        "\n",
        "topic = input('Enter debate topic: ')\n",
        "\n",
        "for role in ['Scientist', 'Philosopher', 'Psychologist']:\n",
        "    print(f'\\n🧠 {role}\\'s argument:')\n",
        "    print(generate_argument(role, topic))"
      ]
    },
    {
      "cell_type": "code",
      "execution_count": null,
      "metadata": {},
      "outputs": [],
      "source": [
        "\n",
        "with open('debate_output.txt', 'w', encoding='utf-8') as f:\n",
        "    for role in ['Scientist', 'Philosopher', 'Psychologist']:\n",
        "        argument = generate_argument(role, topic)\n",
        "        f.write(f'{role}:\\n{argument}\\n\\n')\n",
        "print('✅ Debate saved to debate_output.txt')"
      ]
    }
  ],
  "metadata": {
    "kernelspec": {
      "display_name": "base",
      "language": "python",
      "name": "python3"
    },
    "language_info": {
      "codemirror_mode": {
        "name": "ipython",
        "version": 3
      },
      "file_extension": ".py",
      "mimetype": "text/x-python",
      "name": "python",
      "nbconvert_exporter": "python",
      "pygments_lexer": "ipython3",
      "version": "3.12.7"
    }
  },
  "nbformat": 4,
  "nbformat_minor": 5
}
